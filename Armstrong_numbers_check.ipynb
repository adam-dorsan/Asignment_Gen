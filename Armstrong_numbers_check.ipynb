{
 "cells": [
  {
   "cell_type": "code",
   "execution_count": null,
   "metadata": {},
   "outputs": [],
   "source": [
    "prev=0\n",
    "a = input(\"Please enter a number to check Armstrongity :    \")\n",
    "while not a.isdigit():\n",
    "    print (f\" --{a}-- is not a positive interger number. Please re-enter.\")\n",
    "    a = input(\"Please enter a number to check Armstrongity :    \")\n",
    "while a.isdigit():\n",
    "    n=len(a)\n",
    "    alist=list(a)\n",
    "    for i in range(n):\n",
    "        b=int(alist[i])**n\n",
    "        temp = prev + b\n",
    "        prev = temp\n",
    "        if int(a) == temp :\n",
    "            print (f\"Yeah! {a} is an Armstrong number.\")\n",
    "    break\n",
    "if int(a) != temp:\n",
    "    print (f\"{a} is not an Armstrong number.\")"
   ]
  },
  {
   "cell_type": "code",
   "execution_count": null,
   "metadata": {},
   "outputs": [],
   "source": []
  }
 ],
 "metadata": {
  "kernelspec": {
   "display_name": "Python 3",
   "language": "python",
   "name": "python3"
  },
  "language_info": {
   "codemirror_mode": {
    "name": "ipython",
    "version": 3
   },
   "file_extension": ".py",
   "mimetype": "text/x-python",
   "name": "python",
   "nbconvert_exporter": "python",
   "pygments_lexer": "ipython3",
   "version": "3.6.9"
  }
 },
 "nbformat": 4,
 "nbformat_minor": 4
}
